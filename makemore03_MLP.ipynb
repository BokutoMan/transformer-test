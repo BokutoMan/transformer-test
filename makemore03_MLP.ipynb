{
 "cells": [
  {
   "cell_type": "markdown",
   "id": "afa3b056-1647-4293-9913-950944b97bfb",
   "metadata": {},
   "source": [
    "使用向量空间映射字母，训练神经网络调整映射"
   ]
  },
  {
   "cell_type": "code",
   "execution_count": 201,
   "id": "16c33ed2-94ba-40b0-9c3f-70f4594fdeee",
   "metadata": {},
   "outputs": [],
   "source": [
    "import torch\n",
    "from matplotlib import pyplot as plt"
   ]
  },
  {
   "cell_type": "code",
   "execution_count": 202,
   "id": "d4416bbb-e7d9-4a00-9354-44c1bb52d7f8",
   "metadata": {},
   "outputs": [],
   "source": [
    "words = open(\"names.txt\").read().splitlines()"
   ]
  },
  {
   "cell_type": "code",
   "execution_count": 203,
   "id": "4dde7933-4aaa-4d0d-9b26-74925d7be7ce",
   "metadata": {},
   "outputs": [],
   "source": [
    "char = sorted(set(''.join(words)))\n",
    "stoi = {s:i+1 for i,s in enumerate(char)}\n",
    "stoi['.'] = 0\n",
    "itos = {i:s for s,i in stoi.items()}"
   ]
  },
  {
   "cell_type": "code",
   "execution_count": 204,
   "id": "95e70a9b-6782-453c-8301-0d1bcccf7ea2",
   "metadata": {},
   "outputs": [],
   "source": [
    "def make_data(words):\n",
    "    dataX = []\n",
    "    dataY = []\n",
    "    for w in words:\n",
    "        w = '...' + w + '.'\n",
    "        for ch in zip(w,w[1:],w[2:],w[3:]):\n",
    "            ch = [stoi[c] for c in ch]\n",
    "            dataX.append(list(ch[:3]))\n",
    "            dataY.append(ch[3])\n",
    "    dataX = torch.tensor(dataX)\n",
    "    dataY = torch.tensor(dataY)\n",
    "    return dataX,dataY"
   ]
  },
  {
   "cell_type": "code",
   "execution_count": 205,
   "id": "47b7dbb5-5ec7-4192-9a9a-0475b3d846a8",
   "metadata": {},
   "outputs": [
    {
     "data": {
      "text/plain": [
       "(torch.Size([228146, 3]), torch.Size([228146]))"
      ]
     },
     "execution_count": 205,
     "metadata": {},
     "output_type": "execute_result"
    }
   ],
   "source": [
    "dataX,dataY = make_data(words)\n",
    "dataX.shape,dataY.shape"
   ]
  },
  {
   "cell_type": "code",
   "execution_count": 214,
   "id": "d003dc89-77e5-4f51-9cc4-fad2411c0f09",
   "metadata": {},
   "outputs": [],
   "source": [
    "dim = 10\n",
    "C = torch.randn((27,dim),requires_grad=True, device='cuda') \n",
    "W1 = torch.randn((3*dim, 200), requires_grad=True, device='cuda')  # [6,30]\n",
    "b1 = torch.randn(200,requires_grad=True, device='cuda') \n",
    "W2 = torch.randn((200,27), requires_grad=True, device='cuda')\n",
    "b2 = torch.randn(27,requires_grad=True, device='cuda') \n",
    "parameters = [C, W1, b1, W2, b2]\n",
    "\n",
    "# with torch.no_grad():\n",
    "#     C *= 0.2\n",
    "#     W1 *= 0.1\n",
    "#     b *= 0.1\n",
    "#     W2 *= 0.1"
   ]
  },
  {
   "cell_type": "code",
   "execution_count": 215,
   "id": "8da4d484-372c-4c37-8b12-44534a7f08ce",
   "metadata": {},
   "outputs": [],
   "source": [
    "num_x = dataX.shape[0]\n",
    "step = 0\n",
    "loss_s = []"
   ]
  },
  {
   "cell_type": "code",
   "execution_count": 216,
   "id": "e6c363c5-077d-45d2-865f-27287dfc920b",
   "metadata": {},
   "outputs": [],
   "source": [
    "index = torch.randint(0,num_x,(1000,))\n"
   ]
  },
  {
   "cell_type": "code",
   "execution_count": 236,
   "id": "739ee4d3-bacb-4979-865c-51d95d30c6e9",
   "metadata": {},
   "outputs": [
    {
     "name": "stdout",
     "output_type": "stream",
     "text": [
      "0 2.185713291168213\n"
     ]
    }
   ],
   "source": [
    "for i in range(100000):\n",
    "    index = torch.randint(0,num_x,(10000,))\n",
    "    xi = dataX[index]\n",
    "    yi = dataY[index]\n",
    "    xs = C[xi]\n",
    "    ys = yi\n",
    "    xs = xs.cuda()\n",
    "    ys = ys.cuda()\n",
    "    bachsize = len(xs)\n",
    "                                         # X @ C   [5,3,27] @ [27,2] = [5,3,2]\n",
    "    y1 = torch.tanh(xs.view(-1, 3*dim)  @ W1 + b1)\n",
    "    y2 =  y1 @ W2 + b2\n",
    "    # num = y2.exp()\n",
    "    # probs = num / num.sum(1,keepdim=True)\n",
    "    # probs_re = probs[range(bachsize), ys]\n",
    "    # loss = -probs_re.log().sum() / bachsize\n",
    "    loss = torch.nn.functional.cross_entropy(y2, ys)\n",
    "    if i % 5000 == 0:\n",
    "        print(i,loss.item())\n",
    "    loss_s.append(loss.item())\n",
    "    step += 1\n",
    "    # break\n",
    "    # 反向传播，计算梯度\n",
    "    for p in parameters:\n",
    "        p.grad = None\n",
    "    loss.backward()\n",
    "    \n",
    "    # 修改参数\n",
    "    with torch.no_grad():\n",
    "        for p in parameters:\n",
    "            if p.grad is not None:\n",
    "                p -= 0.05 * p.grad\n",
    "            else :\n",
    "                print(\"p.grad is None\")\n",
    "                break\n",
    "    break"
   ]
  },
  {
   "cell_type": "code",
   "execution_count": 228,
   "id": "47c00b25-0842-4133-974b-fdf5b69f6354",
   "metadata": {},
   "outputs": [
    {
     "name": "stdout",
     "output_type": "stream",
     "text": [
      "tensor(2.1675, device='cuda:0')\n"
     ]
    }
   ],
   "source": [
    "with torch.no_grad():\n",
    "    xi = dataX\n",
    "    yi = dataY\n",
    "    xs = C[xi]\n",
    "    ys = yi\n",
    "    xs = xs.cuda()\n",
    "    ys = ys.cuda()\n",
    "    bachsize = len(xs)\n",
    "                                         # X @ C   [5,3,27] @ [27,2] = [5,3,2]\n",
    "    y1 = torch.tanh(xs.view(-1, 3*dim)  @ W1 + b1)\n",
    "    y2 =  y1 @ W2 + b2\n",
    "    # num = y2.exp()\n",
    "    # probs = num / num.sum(1,keepdim=True)\n",
    "    # probs_re = probs[range(bachsize), ys]\n",
    "    # loss = -probs_re.log().sum() / bachsize\n",
    "    loss = torch.nn.functional.cross_entropy(y2, ys)\n",
    "    print(loss)"
   ]
  },
  {
   "cell_type": "code",
   "execution_count": 222,
   "id": "4048d98c-349d-48f7-aa7d-00051fe0ece9",
   "metadata": {},
   "outputs": [
    {
     "data": {
      "text/plain": [
       "torch.Size([228146, 27])"
      ]
     },
     "execution_count": 222,
     "metadata": {},
     "output_type": "execute_result"
    }
   ],
   "source": [
    "y2.shape"
   ]
  },
  {
   "cell_type": "markdown",
   "id": "c18a0a20-3b48-4042-b07b-56cb7e22c793",
   "metadata": {},
   "source": [
    "9000 2.314805746078491\n",
    "9500 2.312034845352173\n",
    "\n",
    "2.2467\n",
    "2.2217"
   ]
  },
  {
   "cell_type": "code",
   "execution_count": 243,
   "id": "409adbbc-9361-428d-bfa4-70493f534a15",
   "metadata": {},
   "outputs": [
    {
     "data": {
      "image/png": "[encoded data removed]",
      "text/plain": [
       "<Figure size 1000x600 with 1 Axes>"
      ]
     },
     "metadata": {},
     "output_type": "display_data"
    }
   ],
   "source": [
    "y2_cpu = y1.cpu().detach().numpy()\n",
    "plt.figure(figsize=(10, 6))\n",
    "plt.hist(y2_cpu, 30)\n",
    "plt.show()"
   ]
  },
  {
   "cell_type": "code",
   "execution_count": 185,
   "id": "700b5f46-991e-42ad-a9b2-3eda6361f50c",
   "metadata": {},
   "outputs": [
    {
     "data": {
      "text/plain": [
       "[<matplotlib.lines.Line2D at 0x23532dde140>]"
      ]
     },
     "execution_count": 185,
     "metadata": {},
     "output_type": "execute_result"
    },
    {
     "data": {
      "image/png": "[encoded data removed]",
      "text/plain": [
       "<Figure size 640x480 with 1 Axes>"
      ]
     },
     "metadata": {},
     "output_type": "display_data"
    }
   ],
   "source": [
    "plt.plot(range(step),loss_s)"
   ]
  },
  {
   "cell_type": "code",
   "execution_count": 233,
   "id": "2b0beddb-bd81-4ff8-8c0a-fad1a1906edc",
   "metadata": {},
   "outputs": [
    {
     "name": "stdout",
     "output_type": "stream",
     "text": [
      "mallie\n",
      "ney\n",
      "lycu\n",
      "mahimyiah\n",
      "wistiayle\n",
      "daniel\n",
      "saily\n",
      "colia\n",
      "rubhezaly\n",
      "ken\n",
      "sace\n",
      "mris\n",
      "erhysemonksia\n",
      "mee\n",
      "jasmamitle\n",
      "nair\n"
     ]
    }
   ],
   "source": [
    "p = ''\n",
    "i = 0\n",
    "with torch.no_grad():\n",
    "    x = [0,0,0]\n",
    "    i == 0\n",
    "    while True:\n",
    "        xs = C[x]\n",
    "        xs = xs.cuda()\n",
    "        y1 = torch.tanh(xs.view(-1, 3*dim)  @ W1 + b1)\n",
    "        y2 =  y1 @ W2 + b2\n",
    "        num = y2.exp()\n",
    "        probs = num / num.sum(1,keepdim=True)\n",
    "        xi = torch.multinomial(probs,num_samples=1,replacement=True).item()\n",
    "        if xi == 0:\n",
    "            print(p)\n",
    "            p = ''\n",
    "            x = [0,0,0]\n",
    "            i += 1\n",
    "        else: \n",
    "            p += itos[xi]\n",
    "            x = [x[1],x[2],xi]\n",
    "        if i > 15:break"
   ]
  },
  {
   "cell_type": "code",
   "execution_count": 115,
   "id": "210037fd-9f70-43b7-867f-e58f58071c35",
   "metadata": {},
   "outputs": [
    {
     "data": {
      "text/plain": [
       "tensor([[ 1.0000,  0.9977, -1.0000, -0.9995,  1.0000,  0.9719, -0.7662,  0.9998,\n",
       "          0.9871, -0.9022,  1.0000,  1.0000, -0.6452,  0.9536, -0.9843, -0.9997,\n",
       "         -1.0000,  0.9334, -1.0000,  0.9989, -1.0000,  0.9588,  0.9997, -0.7019,\n",
       "          0.9993, -0.8543,  0.9999, -1.0000, -0.1229,  0.9998]],\n",
       "       device='cuda:0')"
      ]
     },
     "execution_count": 115,
     "metadata": {},
     "output_type": "execute_result"
    }
   ],
   "source": [
    "y1"
   ]
  },
  {
   "cell_type": "code",
   "execution_count": null,
   "id": "a2cd36e1-d7c9-498c-8fc7-caca111ba308",
   "metadata": {},
   "outputs": [],
   "source": [
    "plt.figure(figsize=(10, 6))\n",
    "plt.hist(data, bins=30, color='blue', edgecolor='black')"
   ]
  },
  {
   "cell_type": "code",
   "execution_count": 96,
   "id": "f0fc6f24-ebd3-42d5-b21a-37d9e4b6efc0",
   "metadata": {},
   "outputs": [
    {
     "data": {
      "text/plain": [
       "tensor(2.7152, device='cuda:0', grad_fn=<DivBackward0>)"
      ]
     },
     "execution_count": 96,
     "metadata": {},
     "output_type": "execute_result"
    }
   ],
   "source": [
    "loss"
   ]
  },
  {
   "cell_type": "code",
   "execution_count": 66,
   "id": "3fc1ced8-294b-4182-914d-b9f4c3f0886c",
   "metadata": {},
   "outputs": [
    {
     "data": {
      "text/plain": [
       "tensor(2.7411, device='cuda:0', grad_fn=<DivBackward0>)"
      ]
     },
     "execution_count": 66,
     "metadata": {},
     "output_type": "execute_result"
    }
   ],
   "source": [
    "loss"
   ]
  },
  {
   "cell_type": "code",
   "execution_count": 184,
   "id": "dda5592a-3ac8-4789-b5b9-57eb02faf4a4",
   "metadata": {},
   "outputs": [
    {
     "data": {
      "image/png": "[encoded data removed]",
      "text/plain": [
       "<Figure size 1000x600 with 1 Axes>"
      ]
     },
     "metadata": {},
     "output_type": "display_data"
    }
   ],
   "source": [
    "C_cpu = C.cpu().detach().numpy() \n",
    "names = char\n",
    "x = C_cpu[1:,0]\n",
    "y = C_cpu[1:,1]\n",
    "\n",
    "# 创建散点图\n",
    "plt.figure(figsize=(10, 6))\n",
    "plt.scatter(x, y, color='blue')\n",
    "\n",
    "# 添加点的名称\n",
    "for i, name in enumerate(names):\n",
    "    plt.text(x[i], y[i], name, fontsize=12, ha='right')\n",
    "\n",
    "# 添加标题和标签\n",
    "plt.title('Scatter Plot with Names')\n",
    "plt.xlabel('X-axis')\n",
    "plt.ylabel('Y-axis')\n",
    "\n",
    "# 显示图表\n",
    "plt.show()"
   ]
  },
  {
   "cell_type": "code",
   "execution_count": null,
   "id": "393a9cd9-7267-44aa-be0b-e9b2f149beed",
   "metadata": {},
   "outputs": [],
   "source": []
  }
 ],
 "metadata": {
  "kernelspec": {
   "display_name": "Python 3 (ipykernel)",
   "language": "python",
   "name": "python3"
  },
  "language_info": {
   "codemirror_mode": {
    "name": "ipython",
    "version": 3
   },
   "file_extension": ".py",
   "mimetype": "text/x-python",
   "name": "python",
   "nbconvert_exporter": "python",
   "pygments_lexer": "ipython3",
   "version": "3.10.14"
  }
 },
 "nbformat": 4,
 "nbformat_minor": 5
}
