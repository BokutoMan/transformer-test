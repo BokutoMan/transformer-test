{
 "cells": [
  {
   "cell_type": "code",
   "execution_count": 585,
   "id": "3fbfd38b-c64f-4e32-85fb-a876e2f128dc",
   "metadata": {},
   "outputs": [],
   "source": [
    "import torch\n",
    "from matplotlib import pyplot as plt"
   ]
  },
  {
   "cell_type": "code",
   "execution_count": 586,
   "id": "9246e600-e2ea-4547-bae5-04259d5f399a",
   "metadata": {},
   "outputs": [
    {
     "data": {
      "text/plain": [
       "32033"
      ]
     },
     "execution_count": 586,
     "metadata": {},
     "output_type": "execute_result"
    }
   ],
   "source": [
    "words = open(\"names.txt\", 'r').read().splitlines()\n",
    "len(words)"
   ]
  },
  {
   "cell_type": "code",
   "execution_count": 587,
   "id": "fecb2b6e-f07a-474a-834c-0c65554e1920",
   "metadata": {},
   "outputs": [
    {
     "data": {
      "text/plain": [
       "torch.int64"
      ]
     },
     "execution_count": 587,
     "metadata": {},
     "output_type": "execute_result"
    }
   ],
   "source": [
    "char = sorted(set(''.join(words)))\n",
    "stoi = {s:i+1 for i,s in enumerate(char)}\n",
    "stoi['.'] = 0\n",
    "itos = {i:s for s,i in stoi.items()}\n",
    "N = torch.zeros((27,27), dtype=int)\n",
    "N.dtype"
   ]
  },
  {
   "cell_type": "code",
   "execution_count": 588,
   "id": "0c1c5cf9-954a-4f46-8bc8-f5db1e2a5e58",
   "metadata": {},
   "outputs": [],
   "source": [
    "for w in words:\n",
    "    w = '.' + w + '.'\n",
    "    for ch1,ch2 in zip(w,w[1:]):\n",
    "        ix1 = stoi[ch1]\n",
    "        ix2 = stoi[ch2]\n",
    "        N[ix1,ix2] += 1"
   ]
  },
  {
   "cell_type": "code",
   "execution_count": null,
   "id": "899f70f9-7871-4781-af86-a039c3e89b69",
   "metadata": {},
   "outputs": [],
   "source": [
    "N"
   ]
  },
  {
   "cell_type": "code",
   "execution_count": 392,
   "id": "1468109b-1a84-40d2-9f09-4a60758448c0",
   "metadata": {},
   "outputs": [],
   "source": [
    "P = N.float()"
   ]
  },
  {
   "cell_type": "code",
   "execution_count": 394,
   "id": "8a0b1f93-abd4-4291-99b0-a31ea198ed0b",
   "metadata": {},
   "outputs": [],
   "source": [
    "P = P / P.sum(1, keepdim=True)"
   ]
  },
  {
   "cell_type": "code",
   "execution_count": 398,
   "id": "871a5ae0-c131-428d-8f57-972a4e9f5edb",
   "metadata": {},
   "outputs": [
    {
     "data": {
      "text/plain": [
       "tensor([1.0000, 1.0000, 1.0000, 1.0000, 1.0000, 1.0000, 1.0000, 1.0000, 1.0000,\n",
       "        1.0000, 1.0000, 1.0000, 1.0000, 1.0000, 1.0000, 1.0000, 1.0000, 1.0000,\n",
       "        1.0000, 1.0000, 1.0000, 1.0000, 1.0000, 1.0000, 1.0000, 1.0000, 1.0000])"
      ]
     },
     "execution_count": 398,
     "metadata": {},
     "output_type": "execute_result"
    }
   ],
   "source": [
    "P.sum(1)"
   ]
  },
  {
   "cell_type": "code",
   "execution_count": 687,
   "id": "b547e036-9567-41aa-bc06-44bbd15a875d",
   "metadata": {},
   "outputs": [],
   "source": [
    "g = torch.Generator().manual_seed(2147483647)"
   ]
  },
  {
   "cell_type": "code",
   "execution_count": 602,
   "id": "4fa64cd2-75ad-45a8-86eb-167b7a70a9e8",
   "metadata": {},
   "outputs": [],
   "source": [
    "dataX,dataY = [],[]\n",
    "for w in words:\n",
    "    w = '.' + w + '.'\n",
    "    for ch1,ch2 in zip(w,w[1:]):\n",
    "        ix1 = stoi[ch1]\n",
    "        ix2 = stoi[ch2]\n",
    "        dataX.append(ix1)\n",
    "        dataY.append(ix2)"
   ]
  },
  {
   "cell_type": "code",
   "execution_count": 603,
   "id": "3c67a977-8e51-4c11-bb8e-988360d1afc3",
   "metadata": {},
   "outputs": [],
   "source": [
    "dataX = torch.tensor(dataX)\n",
    "dataY = torch.tensor(dataY)"
   ]
  },
  {
   "cell_type": "code",
   "execution_count": 604,
   "id": "dd9f368d-dff3-488f-8848-1a53a92b3bac",
   "metadata": {},
   "outputs": [],
   "source": [
    "X = torch.nn.functional.one_hot(dataX,num_classes=27).float()"
   ]
  },
  {
   "cell_type": "code",
   "execution_count": 656,
   "id": "453fe4f9-a32f-461a-b0cf-f0e98b254bb3",
   "metadata": {},
   "outputs": [],
   "source": [
    "W = torch.randn((27,27),generator=g,requires_grad=True)"
   ]
  },
  {
   "cell_type": "code",
   "execution_count": 657,
   "id": "1ba38692-48b1-42d0-972e-ea0802a489cb",
   "metadata": {},
   "outputs": [],
   "source": [
    "loss_s = [] \n",
    "step = 0\n",
    "y_s = []"
   ]
  },
  {
   "cell_type": "code",
   "execution_count": 659,
   "id": "dd0d3d3d-9036-4fb8-a175-37159c9b62fb",
   "metadata": {},
   "outputs": [
    {
     "name": "stdout",
     "output_type": "stream",
     "text": [
      "2.6783699989318848\n",
      "2.660799503326416\n",
      "2.6457247734069824\n",
      "2.6326231956481934\n",
      "2.6211161613464355\n",
      "2.61092209815979\n",
      "2.6018238067626953\n",
      "2.5936522483825684\n",
      "2.586273670196533\n",
      "2.5795798301696777\n",
      "2.573481798171997\n",
      "2.567905902862549\n",
      "2.5627896785736084\n",
      "2.5580804347991943\n",
      "2.553732395172119\n",
      "2.549706220626831\n",
      "2.5459675788879395\n",
      "2.542487382888794\n",
      "2.5392391681671143\n",
      "2.536200761795044\n",
      "2.5333526134490967\n",
      "2.5306766033172607\n",
      "2.528158187866211\n",
      "2.5257840156555176\n",
      "2.523541212081909\n",
      "2.5214197635650635\n",
      "2.5194103717803955\n",
      "2.5175044536590576\n",
      "2.5156943798065186\n",
      "2.5139732360839844\n",
      "2.5123350620269775\n",
      "2.5107741355895996\n",
      "2.5092852115631104\n",
      "2.507863759994507\n",
      "2.5065057277679443\n",
      "2.5052073001861572\n",
      "2.50396466255188\n",
      "2.502774238586426\n",
      "2.501633882522583\n",
      "2.500539779663086\n",
      "2.4994900226593018\n",
      "2.4984817504882812\n",
      "2.4975130558013916\n",
      "2.496581792831421\n",
      "2.495685338973999\n",
      "2.4948227405548096\n",
      "2.4939916133880615\n",
      "2.4931905269622803\n",
      "2.4924182891845703\n",
      "2.491672992706299\n",
      "2.4909539222717285\n",
      "2.4902586936950684\n",
      "2.4895873069763184\n",
      "2.488938093185425\n",
      "2.488309621810913\n",
      "2.487701416015625\n",
      "2.4871127605438232\n",
      "2.486541986465454\n",
      "2.485989570617676\n",
      "2.4854531288146973\n",
      "2.4849328994750977\n",
      "2.4844276905059814\n",
      "2.4839377403259277\n",
      "2.483461618423462\n",
      "2.482998847961426\n",
      "2.482548475265503\n",
      "2.4821112155914307\n",
      "2.4816856384277344\n",
      "2.481271266937256\n",
      "2.480868101119995\n",
      "2.480475425720215\n",
      "2.4800925254821777\n",
      "2.479719877243042\n",
      "2.479356527328491\n",
      "2.4790022373199463\n",
      "2.478656768798828\n",
      "2.4783196449279785\n",
      "2.4779906272888184\n",
      "2.4776694774627686\n",
      "2.477356433868408\n",
      "2.477050304412842\n",
      "2.4767508506774902\n",
      "2.476459264755249\n",
      "2.4761734008789062\n",
      "2.4758944511413574\n",
      "2.4756217002868652\n",
      "2.4753551483154297\n",
      "2.4750943183898926\n",
      "2.474838972091675\n",
      "2.4745898246765137\n",
      "2.4743454456329346\n",
      "2.4741058349609375\n",
      "2.473872184753418\n",
      "2.4736430644989014\n",
      "2.473418712615967\n",
      "2.473198890686035\n",
      "2.4729838371276855\n",
      "2.4727728366851807\n",
      "2.4725663661956787\n",
      "2.4723637104034424\n"
     ]
    }
   ],
   "source": [
    "x = X\n",
    "for i in range(100):\n",
    "    y = x @ W \n",
    "    y_s.append(y.sum().item())\n",
    "    num = y.exp()\n",
    "    p = num / num.sum(1,keepdim=True)\n",
    "    yp = p[range(len(X)),dataY]\n",
    "    loss = -yp.log().mean()\n",
    "    W.grad = None\n",
    "    loss.backward()\n",
    "    loss_s.append(loss.item())\n",
    "    with torch.no_grad():\n",
    "        W -= 50*W.grad\n",
    "    step += 1\n",
    "    print(loss.item())\n"
   ]
  },
  {
   "cell_type": "code",
   "execution_count": 660,
   "id": "f1c8485a-4241-4e9f-ad14-3f6e3b1629b8",
   "metadata": {},
   "outputs": [
    {
     "data": {
      "text/plain": [
       "[<matplotlib.lines.Line2D at 0x17477a6df60>]"
      ]
     },
     "execution_count": 660,
     "metadata": {},
     "output_type": "execute_result"
    },
    {
     "data": {
      "image/png": "[encoded data removed]",
      "text/plain": [
       "<Figure size 640x480 with 1 Axes>"
      ]
     },
     "metadata": {},
     "output_type": "display_data"
    }
   ],
   "source": [
    "plt.plot(range(step),loss_s)"
   ]
  },
  {
   "cell_type": "code",
   "execution_count": 691,
   "id": "e79785a8-9932-49f3-8f5e-5d2bc0d42a69",
   "metadata": {},
   "outputs": [
    {
     "name": "stdout",
     "output_type": "stream",
     "text": [
      "jaalilpergha\n",
      "tezralelia\n",
      "vywh\n",
      "elvan\n",
      "hiahimahacelahmimi\n",
      "rasabyoni\n",
      "pn\n",
      "aliaierenn\n",
      "jayannda\n",
      "r\n",
      "ceremankesorannjresanoman\n",
      "kyn\n",
      "deriganazirdab\n",
      "ta\n",
      "on\n",
      "bahatelyti\n"
     ]
    }
   ],
   "source": [
    "p = ''\n",
    "i = 0\n",
    "with torch.no_grad():\n",
    "    x = 0\n",
    "    i == 0\n",
    "    while True:\n",
    "        x = torch.nn.functional.one_hot(torch.tensor(x),27).float()\n",
    "        y = x @ W\n",
    "        num = y.exp()\n",
    "        pros = num / num.sum()\n",
    "        x = torch.multinomial(pros,num_samples=1,replacement=True,generator=g).item()\n",
    "        if x == 0:\n",
    "            print(p)\n",
    "            p = ''\n",
    "            i += 1\n",
    "        else: p += itos[x]\n",
    "        if i > 15:break"
   ]
  },
  {
   "cell_type": "code",
   "execution_count": 680,
   "id": "01dfbb74-fb3c-448e-96f1-a4998e2e5bd5",
   "metadata": {},
   "outputs": [
    {
     "data": {
      "text/plain": [
       "tensor([0.0678, 0.3400, 0.0044, 0.0037, 0.0050, 0.1740, 0.0040, 0.0051, 0.0565,\n",
       "        0.0972, 0.0024, 0.0060, 0.0222, 0.0044, 0.0059, 0.0639, 0.0028, 0.0045,\n",
       "        0.0172, 0.0151, 0.0052, 0.0081, 0.0033, 0.0022, 0.0031, 0.0711, 0.0048])"
      ]
     },
     "execution_count": 680,
     "metadata": {},
     "output_type": "execute_result"
    }
   ],
   "source": [
    "pros"
   ]
  },
  {
   "cell_type": "code",
   "execution_count": 674,
   "id": "dc5b759b-c1f9-4274-8eef-8417d6429822",
   "metadata": {},
   "outputs": [
    {
     "data": {
      "text/plain": [
       "tensor([-2.8999,  1.8704,  0.6523,  0.8186,  0.9104,  0.8115, -0.4938, -0.0185,\n",
       "         0.2497, -0.1430,  1.2707,  1.4724,  0.8379,  1.3175,  0.5213, -0.5510,\n",
       "        -0.2813, -1.9475,  0.8797,  1.1062,  0.6538, -2.0521, -0.5981, -0.8029,\n",
       "        -1.6145, -0.2430,  0.3109])"
      ]
     },
     "execution_count": 674,
     "metadata": {},
     "output_type": "execute_result"
    }
   ],
   "source": [
    "num"
   ]
  },
  {
   "cell_type": "code",
   "execution_count": 675,
   "id": "321cd07b-405b-4504-88b1-75ea3ad16afb",
   "metadata": {},
   "outputs": [
    {
     "data": {
      "text/plain": [
       "tensor([0.0550, 6.4906, 1.9199, 2.2674, 2.4853, 2.2512, 0.6103, 0.9817, 1.2836,\n",
       "        0.8668, 3.5633, 4.3599, 2.3116, 3.7341, 1.6842, 0.5764, 0.7548, 0.1426,\n",
       "        2.4102, 3.0228, 1.9228, 0.1285, 0.5498, 0.4480, 0.1990, 0.7843, 1.3646])"
      ]
     },
     "execution_count": 675,
     "metadata": {},
     "output_type": "execute_result"
    }
   ],
   "source": [
    "num"
   ]
  },
  {
   "cell_type": "markdown",
   "id": "05ae9ab2-b980-4f3e-b02f-e3e484426eca",
   "metadata": {},
   "source": [
    "记录前两个字符，生成一个字符"
   ]
  },
  {
   "cell_type": "code",
   "execution_count": 751,
   "id": "e24ced4a-8b85-4140-bcef-edeb2057a08b",
   "metadata": {},
   "outputs": [],
   "source": [
    "dataX2 = []\n",
    "dataY2 = []\n",
    "for w in words:\n",
    "    w = '..' + w + '.'\n",
    "    for ch1,ch2,ch3 in zip(w,w[1:],w[2:]):\n",
    "        dataX2.append([stoi[ch1],stoi[ch2]])\n",
    "        dataY2.append(stoi[ch3])"
   ]
  },
  {
   "cell_type": "code",
   "execution_count": 752,
   "id": "0dbd141c-9a07-41e4-ae91-c45ffd485af9",
   "metadata": {},
   "outputs": [],
   "source": [
    "dataX2 = torch.tensor(dataX2)\n",
    "dataY2 = torch.tensor(dataY2)\n",
    "W = torch.randn((27*2, 27), requires_grad=True)"
   ]
  },
  {
   "cell_type": "code",
   "execution_count": 771,
   "id": "2554cb57-7172-4aa7-beba-f844b44f357f",
   "metadata": {},
   "outputs": [],
   "source": [
    "step = 0\n",
    "loss_s = []\n",
    "bachsize = len(dataX2)\n",
    "old_loss = 6"
   ]
  },
  {
   "cell_type": "code",
   "execution_count": 783,
   "id": "8db5c8cf-7e11-431b-8e8a-7da1eff3f2f9",
   "metadata": {},
   "outputs": [
    {
     "name": "stdout",
     "output_type": "stream",
     "text": [
      "0 2.340022563934326\n",
      "50 2.340012311935425\n",
      "100 2.3400015830993652\n",
      "150 2.3399910926818848\n",
      "200 2.3399808406829834\n",
      "250 2.339970350265503\n",
      "300 2.3399600982666016\n",
      "350 2.3399500846862793\n",
      "400 2.339939594268799\n",
      "450 2.3399295806884766\n",
      "500 2.339919328689575\n",
      "550 2.339909315109253\n",
      "600 2.3398993015289307\n",
      "650 2.3398895263671875\n",
      "700 2.3398795127868652\n",
      "750 2.339869737625122\n",
      "800 2.3398597240448\n",
      "850 2.3398501873016357\n",
      "900 2.3398404121398926\n",
      "950 2.3398306369781494\n"
     ]
    }
   ],
   "source": [
    "for i in range(1000):\n",
    "    xs = torch.nn.functional.one_hot(dataX2[:bachsize], 27).float()\n",
    "    xs = xs.view([-1,27*2])\n",
    "    # 计算，向前计算\n",
    "    y = xs @ W\n",
    "    num = y.exp()\n",
    "    probs = num / num.sum(1,keepdim=True)\n",
    "    pre = probs[range(bachsize), dataY2[:bachsize]]\n",
    "    loss = -pre.log().sum()/bachsize\n",
    "    # 向后反向传播梯度\n",
    "    W.grad = None\n",
    "    loss.backward()\n",
    "    step += 1\n",
    "    loss_s.append(loss.item())\n",
    "    if(loss > old_loss):\n",
    "        break\n",
    "    else: old_loss = loss\n",
    "    # 更新梯度\n",
    "    with torch.no_grad():\n",
    "        W -= 1 * W.grad\n",
    "    if i%50 == 0:\n",
    "        print(i,loss.item())"
   ]
  },
  {
   "cell_type": "code",
   "execution_count": 734,
   "id": "9c107612-9048-4527-9ef6-595eaf40cc17",
   "metadata": {},
   "outputs": [
    {
     "data": {
      "text/plain": [
       "4.287729740142822"
      ]
     },
     "execution_count": 734,
     "metadata": {},
     "output_type": "execute_result"
    }
   ],
   "source": [
    "loss.item()"
   ]
  },
  {
   "cell_type": "code",
   "execution_count": 730,
   "id": "c86b9ff2-60cc-4980-ae92-3f5a047bff84",
   "metadata": {},
   "outputs": [
    {
     "data": {
      "text/plain": [
       "torch.Size([32, 27])"
      ]
     },
     "execution_count": 730,
     "metadata": {},
     "output_type": "execute_result"
    }
   ],
   "source": [
    "y.shape"
   ]
  },
  {
   "cell_type": "code",
   "execution_count": 803,
   "id": "d2013f5c-d097-4aa3-8913-ca2e3090d95b",
   "metadata": {},
   "outputs": [
    {
     "ename": "AttributeError",
     "evalue": "'int' object has no attribute 'item'",
     "output_type": "error",
     "traceback": [
      "\u001b[1;31m---------------------------------------------------------------------------\u001b[0m",
      "\u001b[1;31mAttributeError\u001b[0m                            Traceback (most recent call last)",
      "Cell \u001b[1;32mIn[803], line 20\u001b[0m\n\u001b[0;32m     18\u001b[0m \u001b[38;5;28;01melse\u001b[39;00m: \n\u001b[0;32m     19\u001b[0m     p \u001b[38;5;241m+\u001b[39m\u001b[38;5;241m=\u001b[39m itos[xi]\n\u001b[1;32m---> 20\u001b[0m     x \u001b[38;5;241m=\u001b[39m [x[\u001b[38;5;241m1\u001b[39m],\u001b[43mxi\u001b[49m\u001b[38;5;241;43m.\u001b[39;49m\u001b[43mitem\u001b[49m()]\n\u001b[0;32m     21\u001b[0m \u001b[38;5;28;01mif\u001b[39;00m i \u001b[38;5;241m>\u001b[39m \u001b[38;5;241m15\u001b[39m:\u001b[38;5;28;01mbreak\u001b[39;00m\n",
      "\u001b[1;31mAttributeError\u001b[0m: 'int' object has no attribute 'item'"
     ]
    }
   ],
   "source": [
    "p = ''\n",
    "i = 0\n",
    "with torch.no_grad():\n",
    "    xx = [0,0]\n",
    "    i == 0\n",
    "    while True:\n",
    "        x = torch.nn.functional.one_hot(torch.tensor(xx),27).float()\n",
    "        x = x.view([54])\n",
    "        y = x @ W\n",
    "        num = y.exp()\n",
    "        pros = num / num.sum()\n",
    "        xi = torch.multinomial(pros,num_samples=1,replacement=True,generator=g).item()\n",
    "        if xi == 0:\n",
    "            print(p)\n",
    "            p = ''\n",
    "            xx = [0,0]\n",
    "            i += 1\n",
    "        else: \n",
    "            p += itos[xi]\n",
    "            x = [x[1].,xi]\n",
    "        if i > 15:break"
   ]
  },
  {
   "cell_type": "code",
   "execution_count": 798,
   "id": "7bd10111-4757-4771-a9a8-a3bba861b31d",
   "metadata": {},
   "outputs": [
    {
     "data": {
      "text/plain": [
       "torch.Size([54])"
      ]
     },
     "execution_count": 798,
     "metadata": {},
     "output_type": "execute_result"
    }
   ],
   "source": [
    "x.shape"
   ]
  },
  {
   "cell_type": "code",
   "execution_count": 797,
   "id": "9ebfe1bb-65bd-4ef1-ad98-3ee77c2ede2b",
   "metadata": {},
   "outputs": [],
   "source": [
    "x = x.view([54])"
   ]
  },
  {
   "cell_type": "code",
   "execution_count": null,
   "id": "d49e2d57-df5f-4b12-b8b9-679706192d0d",
   "metadata": {},
   "outputs": [],
   "source": []
  }
 ],
 "metadata": {
  "kernelspec": {
   "display_name": "Python 3 (ipykernel)",
   "language": "python",
   "name": "python3"
  },
  "language_info": {
   "codemirror_mode": {
    "name": "ipython",
    "version": 3
   },
   "file_extension": ".py",
   "mimetype": "text/x-python",
   "name": "python",
   "nbconvert_exporter": "python",
   "pygments_lexer": "ipython3",
   "version": "3.10.14"
  }
 },
 "nbformat": 4,
 "nbformat_minor": 5
}
