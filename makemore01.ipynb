{
 "cells": [
  {
   "cell_type": "code",
   "execution_count": 26,
   "id": "4c2329c0-0fd8-4f5b-ae9c-5daf3ff22d8f",
   "metadata": {},
   "outputs": [],
   "source": [
    "import torch"
   ]
  },
  {
   "cell_type": "code",
   "execution_count": 4,
   "id": "19a0dcfc-7695-49a3-bf7b-c278241be6e1",
   "metadata": {},
   "outputs": [],
   "source": [
    "words = open(\"names.txt\", 'r').read().splitlines()"
   ]
  },
  {
   "cell_type": "code",
   "execution_count": 6,
   "id": "38a0434c-1e76-45cd-84c4-bf72c439158d",
   "metadata": {},
   "outputs": [
    {
     "data": {
      "text/plain": [
       "32033"
      ]
     },
     "execution_count": 6,
     "metadata": {},
     "output_type": "execute_result"
    }
   ],
   "source": [
    "len(words)"
   ]
  },
  {
   "cell_type": "code",
   "execution_count": 109,
   "id": "5db12e43-327d-4761-8873-3010419d1962",
   "metadata": {},
   "outputs": [],
   "source": [
    "N = torch.zeros((27,27), dtype=torch.int32)"
   ]
  },
  {
   "cell_type": "code",
   "execution_count": 110,
   "id": "27275c7d-8245-4c02-8577-021b7948497e",
   "metadata": {},
   "outputs": [],
   "source": [
    "char = sorted(set(\"\".join(words)))\n",
    "itos = {i+1:s for i,s in enumerate(char)}\n",
    "itos[0] = '.'\n",
    "stoi = {s:i for i,s in itos.items()}"
   ]
  },
  {
   "cell_type": "code",
   "execution_count": 111,
   "id": "72897115-048e-4819-a931-2f9112c5b0f9",
   "metadata": {},
   "outputs": [],
   "source": [
    "for w in words:\n",
    "    w = '.' + w + '.'\n",
    "    for ch1,ch2 in zip(w,w[1:]):\n",
    "        ix1 = stoi[ch1] ; ix2 = stoi[ch2]\n",
    "        N[ix1,ix2] += 1"
   ]
  },
  {
   "cell_type": "code",
   "execution_count": 121,
   "id": "1764db54-10bd-439c-b37a-a1c38063c883",
   "metadata": {},
   "outputs": [
    {
     "data": {
      "text/plain": [
       "tensor([1.0000, 1.0000, 1.0000, 1.0000, 1.0000, 1.0000, 1.0000, 1.0000, 1.0000,\n",
       "        1.0000, 1.0000, 1.0000, 1.0000, 1.0000, 1.0000, 1.0000, 1.0000, 1.0000,\n",
       "        1.0000, 1.0000, 1.0000, 1.0000, 1.0000, 1.0000, 1.0000, 1.0000, 1.0000])"
      ]
     },
     "execution_count": 121,
     "metadata": {},
     "output_type": "execute_result"
    }
   ],
   "source": [
    "P = N.float()\n",
    "P = P / P.sum(1, keepdim=True)\n",
    "P.sum(1)"
   ]
  },
  {
   "cell_type": "code",
   "execution_count": 122,
   "id": "5695659f-07c3-4d50-91a0-9282bb5dce91",
   "metadata": {},
   "outputs": [],
   "source": [
    "g = torch.Generator().manual_seed(5565458552)"
   ]
  },
  {
   "cell_type": "code",
   "execution_count": 123,
   "id": "3de49ee4-f021-4825-9f7a-1da919cc132e",
   "metadata": {},
   "outputs": [
    {
     "name": "stdout",
     "output_type": "stream",
     "text": [
      "tifrieimo.\n",
      "jumarosorad.\n",
      "ayve.\n",
      "kaa.\n",
      "eodextotzlenahvinn.\n",
      "frreyn.\n",
      "a.\n",
      "kan.\n",
      "jayrlaxxx.\n",
      "a.\n",
      "goxa.\n",
      "jashakauintramyzar.\n",
      "maeyabre.\n",
      "as.\n",
      "diedldiu.\n",
      "anaglendr.\n",
      "aro.\n",
      "jone.\n",
      "lan.\n",
      "vi.\n"
     ]
    }
   ],
   "source": [
    "for _ in range(20):\n",
    "    ix = 0\n",
    "    p = []\n",
    "    while True:\n",
    "        ix = torch.multinomial(P[ix],num_samples=1,replacement=True,generator=g).item()\n",
    "        p.append(itos[ix])\n",
    "        if ix == 0:\n",
    "            break\n",
    "    print(\"\".join(p))"
   ]
  },
  {
   "cell_type": "code",
   "execution_count": 88,
   "id": "a40b888c-abde-4eeb-b2e1-7fd7e60a9858",
   "metadata": {},
   "outputs": [
    {
     "data": {
      "text/plain": [
       "tensor([0.0000, 0.1377, 0.0408, 0.0481, 0.0528, 0.0478, 0.0130, 0.0209, 0.0273,\n",
       "        0.0184, 0.0756, 0.0925, 0.0491, 0.0792, 0.0358, 0.0123, 0.0161, 0.0029,\n",
       "        0.0512, 0.0642, 0.0408, 0.0024, 0.0117, 0.0096, 0.0042, 0.0167, 0.0290])"
      ]
     },
     "execution_count": 88,
     "metadata": {},
     "output_type": "execute_result"
    }
   ],
   "source": [
    "N[ix]"
   ]
  },
  {
   "cell_type": "code",
   "execution_count": 115,
   "id": "0d40c431-0a57-447b-ad50-f2120c211759",
   "metadata": {},
   "outputs": [
    {
     "data": {
      "text/plain": [
       "tensor([[1, 1, 1, 1],\n",
       "        [2, 3, 3, 3],\n",
       "        [1, 2, 5, 6]])"
      ]
     },
     "execution_count": 115,
     "metadata": {},
     "output_type": "execute_result"
    }
   ],
   "source": [
    "a = torch.tensor([[1,1,1,1],\n",
    "                  [2,3,3,3],\n",
    "                  [1,2,5,6]])\n",
    "a"
   ]
  },
  {
   "cell_type": "code",
   "execution_count": 120,
   "id": "9257b900-9581-4013-a2ae-51ffd04be68e",
   "metadata": {},
   "outputs": [
    {
     "data": {
      "text/plain": [
       "tensor([[ 4],\n",
       "        [11],\n",
       "        [14]])"
      ]
     },
     "execution_count": 120,
     "metadata": {},
     "output_type": "execute_result"
    }
   ],
   "source": [
    "a.sum(1,keepdim=True)"
   ]
  },
  {
   "cell_type": "code",
   "execution_count": null,
   "id": "8c276c58-849b-430f-a65f-cf227612c6e6",
   "metadata": {},
   "outputs": [],
   "source": []
  }
 ],
 "metadata": {
  "kernelspec": {
   "display_name": "Python 3 (ipykernel)",
   "language": "python",
   "name": "python3"
  },
  "language_info": {
   "codemirror_mode": {
    "name": "ipython",
    "version": 3
   },
   "file_extension": ".py",
   "mimetype": "text/x-python",
   "name": "python",
   "nbconvert_exporter": "python",
   "pygments_lexer": "ipython3",
   "version": "3.10.14"
  }
 },
 "nbformat": 4,
 "nbformat_minor": 5
}
