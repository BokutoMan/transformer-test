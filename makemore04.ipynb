{
 "cells": [
  {
   "cell_type": "markdown",
   "id": "afa3b056-1647-4293-9913-950944b97bfb",
   "metadata": {},
   "source": [
    "使用向量空间映射字母，训练神经网络调整映射"
   ]
  },
  {
   "cell_type": "code",
   "execution_count": 1,
   "id": "16c33ed2-94ba-40b0-9c3f-70f4594fdeee",
   "metadata": {},
   "outputs": [],
   "source": [
    "import torch\n",
    "from matplotlib import pyplot as plt"
   ]
  },
  {
   "cell_type": "code",
   "execution_count": 2,
   "id": "d4416bbb-e7d9-4a00-9354-44c1bb52d7f8",
   "metadata": {},
   "outputs": [],
   "source": [
    "words = open(\"names.txt\").read().splitlines()"
   ]
  },
  {
   "cell_type": "code",
   "execution_count": 3,
   "id": "4dde7933-4aaa-4d0d-9b26-74925d7be7ce",
   "metadata": {},
   "outputs": [],
   "source": [
    "char = sorted(set(''.join(words)))\n",
    "stoi = {s:i+1 for i,s in enumerate(char)}\n",
    "stoi['.'] = 0\n",
    "itos = {i:s for s,i in stoi.items()}"
   ]
  },
  {
   "cell_type": "code",
   "execution_count": 4,
   "id": "61dd6152-9c07-4f19-ad58-538543be3ca1",
   "metadata": {},
   "outputs": [],
   "source": [
    "# shuffle up the words\n",
    "import random\n",
    "random.seed(42)\n",
    "random.shuffle(words)"
   ]
  },
  {
   "cell_type": "code",
   "execution_count": 22,
   "id": "95e70a9b-6782-453c-8301-0d1bcccf7ea2",
   "metadata": {},
   "outputs": [],
   "source": [
    "block_size = 8\n",
    "\n",
    "def make_data(words):\n",
    "    X,Y = [],[]\n",
    "    for w in words:\n",
    "        content = [0] * block_size\n",
    "        w = w + '.'\n",
    "        for ch in w:\n",
    "            ix = stoi[ch]\n",
    "            X.append(content)\n",
    "            Y.append(ix)\n",
    "            content = content[1:] + [ix]\n",
    "    dataX = torch.tensor(X)\n",
    "    dataY = torch.tensor(Y)\n",
    "    return dataX,dataY"
   ]
  },
  {
   "cell_type": "code",
   "execution_count": 24,
   "id": "47b7dbb5-5ec7-4192-9a9a-0475b3d846a8",
   "metadata": {},
   "outputs": [
    {
     "data": {
      "text/plain": [
       "(torch.Size([182625, 8]), torch.Size([182625]))"
      ]
     },
     "execution_count": 24,
     "metadata": {},
     "output_type": "execute_result"
    }
   ],
   "source": [
    "n1 = int(len(words) * 0.8)\n",
    "n2 = int(len(words) * 0.9)\n",
    "\n",
    "Xtr,Ytr = make_data(words[:n1])\n",
    "Xdev,Ydev = make_data(words[n1:n2])\n",
    "Xte,Yte = make_data(words[n2:])\n",
    "Xtr.shape, Ytr.shape"
   ]
  },
  {
   "cell_type": "code",
   "execution_count": 101,
   "id": "d1968a67-769b-43b6-a9ae-daede41cc972",
   "metadata": {},
   "outputs": [],
   "source": [
    "class Linear:\n",
    "    def __init__(self, fan_in, fan_out, bias=True):\n",
    "        self.weigth = torch.randn((fan_in, fan_out))\n",
    "        self.bias = torch.randn((fan_out)) if bias else None\n",
    "\n",
    "    def __call__(self, x):\n",
    "        self.out =  x @ self.weigth\n",
    "        if self.bias is not None :\n",
    "            self.out += self.bias\n",
    "        return self.out\n",
    "    \n",
    "    def parameters(self):\n",
    "        return [self.weigth] + ([] if self.bias is None else [self.bias])\n",
    "\n",
    "    def cuda(self):\n",
    "        self.weigth = self.weigth.cuda()\n",
    "        if self.bias is not None :\n",
    "            self.bias = self.bias.cuda()\n",
    "\n",
    "class BatchNorm1d:\n",
    "    def __init__(self, dim, eps=1e-5, momentum=0.1):\n",
    "        self.eps = eps\n",
    "        self.momentum = momentum\n",
    "        self.training = True\n",
    "        # gamma * x + beta\n",
    "        self.gamma = torch.ones(dim)\n",
    "        self.beta = torch.zeros(dim)\n",
    "        # 全数据集 标准差和均值\n",
    "        self.running_mean = torch.zeros(dim)\n",
    "        self.running_var = torch.ones(dim)\n",
    "\n",
    "    def __call__(self, x):\n",
    "        if self.training:\n",
    "            if x.ndim == 2:\n",
    "                dim = 0\n",
    "            else: \n",
    "                dim = (0,1)\n",
    "            xmean = x.mean(dim, keepdim=True)\n",
    "            xvar = x.var(dim, keepdim=True)\n",
    "        else:\n",
    "            xmean = self.running_mean\n",
    "            xvar = self.running_var\n",
    "        xhat = (x - xmean) / torch.sqrt(xvar + self.eps)  # normalize to unit variance\n",
    "        self.out = self.gamma * xhat + self.beta \n",
    "        # 更新\n",
    "        if self.training:\n",
    "            with torch.no_grad():\n",
    "                self.running_mean = self.running_mean*(1-self.momentum) + xmean * self.momentum\n",
    "                self.running_var = self.running_var*(1-self.momentum) + xvar * self.momentum\n",
    "        return self.out\n",
    "\n",
    "    def parameters(self):\n",
    "        return [self.gamma, self.beta]\n",
    "\n",
    "    def cuda(self):\n",
    "        self.gamma = self.gamma.cuda()\n",
    "        self.beta = self.beta.cuda()\n",
    "        self.running_mean = self.running_mean.cuda()\n",
    "        self.running_var = self.running_var.cuda()        \n",
    "\n",
    "class Tanh:\n",
    "    def __call__(self, x):\n",
    "        self.out = torch.tanh(x)\n",
    "        return self.out\n",
    "        \n",
    "    def parameters(self):\n",
    "        return []\n",
    "\n",
    "    def cuda(self):None\n",
    "\n",
    "class Embedding:\n",
    "    def __init__(self, num_embeddings, embedding_dim):\n",
    "        self.weight = torch.randn((num_embeddings, embedding_dim))\n",
    "\n",
    "    def __call__(self, IX):\n",
    "        self.out = self.weight[IX]\n",
    "        return self.out\n",
    "\n",
    "    def parameters(self):\n",
    "        return [self.weight]\n",
    "\n",
    "    def cuda(self):\n",
    "        self.weight = self.weight.cuda()\n",
    "\n",
    "class FlattenConsecutive:\n",
    "    def __init__(self, n):\n",
    "        self.n = n\n",
    "\n",
    "    def __call__(self, x):\n",
    "        B, T, C = x.shape\n",
    "        T //= self.n\n",
    "        C *= self.n\n",
    "        x = x.view(B,T,C)\n",
    "        if x.shape[1] == 1:\n",
    "            x = x.squeeze(1)\n",
    "        self.out = x\n",
    "        return self.out\n",
    "\n",
    "    def parameters(self):\n",
    "          return []\n",
    "\n",
    "    def cuda(self):None\n",
    "\n",
    "class Sequential:\n",
    "    def __init__(self, layers):\n",
    "        self.layers = layers\n",
    "\n",
    "    def __call__(self, x):\n",
    "        for layer in self.layers:\n",
    "            x = layer(x)\n",
    "        self.out = x\n",
    "        return self.out\n",
    "\n",
    "    def parameters(self):\n",
    "        return [p for layer in self.layers for p in layer.parameters()]\n",
    "\n",
    "    def cuda(self):\n",
    "        for layer in self.layers:\n",
    "            layer.cuda()"
   ]
  },
  {
   "cell_type": "code",
   "execution_count": 120,
   "id": "ea26b3e9-b878-464f-886a-3c5747e966dd",
   "metadata": {},
   "outputs": [
    {
     "name": "stdout",
     "output_type": "stream",
     "text": [
      "76579\n"
     ]
    }
   ],
   "source": [
    "n_embd = 24 # the dimensionality of the character embedding vectors\n",
    "n_hidden = 128 # the number of neurons in the hidden layer of the MLP\n",
    "\n",
    "model = Sequential([\n",
    "    Embedding(27, n_embd),\n",
    "    FlattenConsecutive(2), Linear(n_embd * 2, n_hidden, bias=False), BatchNorm1d(n_hidden), Tanh(),\n",
    "    FlattenConsecutive(2), Linear(n_hidden * 2, n_hidden, bias=False), BatchNorm1d(n_hidden), Tanh(),\n",
    "    FlattenConsecutive(2), Linear(n_hidden * 2, n_hidden, bias=False), BatchNorm1d(n_hidden), Tanh(),\n",
    "    Linear(n_hidden, 27)\n",
    "])\n",
    "model.cuda()\n",
    "\n",
    "with torch.no_grad():\n",
    "    model.layers[-1].weigth *= 0.1\n",
    "\n",
    "parameters = model.parameters()\n",
    "print(sum(p.nelement() for p in parameters))\n",
    "\n",
    "for p in parameters:\n",
    "    p.requires_grad = True"
   ]
  },
  {
   "cell_type": "code",
   "execution_count": 144,
   "id": "393a9cd9-7267-44aa-be0b-e9b2f149beed",
   "metadata": {},
   "outputs": [],
   "source": [
    "batchsize = 100\n",
    "\n",
    "for i in range(100000):\n",
    "    index = torch.randint(0, Xtr.shape[0], (batchsize,))\n",
    "    X = Xtr[index].cuda()\n",
    "    Y = Ytr[index].cuda()\n",
    "    yi = model(X)\n",
    "    # print(yi)\n",
    "    loss = torch.nn.functional.cross_entropy(yi, Y)\n",
    "    # print(i, loss.item())\n",
    "    for p in parameters:\n",
    "        p.grad = None\n",
    "    loss.backward()\n",
    "\n",
    "    with torch.no_grad():\n",
    "        for p in parameters:\n",
    "            # print(p.device, p.grad.device)\n",
    "            p -= 0.01 * p.grad"
   ]
  },
  {
   "cell_type": "code",
   "execution_count": 145,
   "id": "682d07d8-9054-45ab-a647-793386e54de1",
   "metadata": {},
   "outputs": [
    {
     "data": {
      "text/plain": [
       "tensor(2.2990, device='cuda:0', grad_fn=<NllLossBackward0>)"
      ]
     },
     "execution_count": 145,
     "metadata": {},
     "output_type": "execute_result"
    }
   ],
   "source": [
    "loss"
   ]
  },
  {
   "cell_type": "code",
   "execution_count": 146,
   "id": "60856fc9-e047-4059-be03-ebd9a7a60d19",
   "metadata": {},
   "outputs": [
    {
     "name": "stdout",
     "output_type": "stream",
     "text": [
      "2.1144723892211914\n",
      "2.0808932781219482\n"
     ]
    }
   ],
   "source": [
    "for layer in model.layers:\n",
    "  layer.training = False\n",
    "with torch.no_grad():\n",
    "    X = Xte.cuda()\n",
    "    Y = Yte.cuda()\n",
    "    yi = model(X)\n",
    "    # print(yi)\n",
    "    loss = torch.nn.functional.cross_entropy(yi, Y)\n",
    "    print(loss.item())\n",
    "with torch.no_grad():\n",
    "    X = Xtr.cuda()\n",
    "    Y = Ytr.cuda()\n",
    "    yi = model(X)\n",
    "    # print(yi)\n",
    "    loss = torch.nn.functional.cross_entropy(yi, Y)\n",
    "    print(loss.item())"
   ]
  },
  {
   "cell_type": "code",
   "execution_count": null,
   "id": "af24da7c-bf6c-4394-832d-0f509f206126",
   "metadata": {},
   "outputs": [],
   "source": [
    "2.1345136165618896\n",
    "2.1082568168640137\n",
    "\n",
    "2.1144723892211914\n",
    "2.0808932781219482"
   ]
  }
 ],
 "metadata": {
  "kernelspec": {
   "display_name": "Python 3 (ipykernel)",
   "language": "python",
   "name": "python3"
  },
  "language_info": {
   "codemirror_mode": {
    "name": "ipython",
    "version": 3
   },
   "file_extension": ".py",
   "mimetype": "text/x-python",
   "name": "python",
   "nbconvert_exporter": "python",
   "pygments_lexer": "ipython3",
   "version": "3.10.14"
  }
 },
 "nbformat": 4,
 "nbformat_minor": 5
}
